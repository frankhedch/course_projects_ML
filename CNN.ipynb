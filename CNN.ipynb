{
 "cells": [
  {
   "cell_type": "code",
   "execution_count": 1,
   "metadata": {},
   "outputs": [
    {
     "name": "stdout",
     "output_type": "stream",
     "text": [
      "Extracting /tmp/data/train-images-idx3-ubyte.gz\n",
      "Extracting /tmp/data/train-labels-idx1-ubyte.gz\n",
      "Extracting /tmp/data/t10k-images-idx3-ubyte.gz\n",
      "Extracting /tmp/data/t10k-labels-idx1-ubyte.gz\n"
     ]
    }
   ],
   "source": [
    "from __future__ import division, print_function, absolute_import\n",
    "\n",
    "import tensorflow as tf\n",
    "\n",
    "# Import MNIST data\n",
    "from tensorflow.examples.tutorials.mnist import input_data\n",
    "mnist = input_data.read_data_sets(\"/tmp/data/\", one_hot=True)\n",
    "import matplotlib.pyplot as plt"
   ]
  },
  {
   "cell_type": "code",
   "execution_count": 45,
   "metadata": {
    "collapsed": true
   },
   "outputs": [],
   "source": [
    "# Training Parameters\n",
    "learning_rate = 0.001\n",
    "num_steps = 500\n",
    "batch_size = 128\n",
    "display_step = 10\n",
    "\n",
    "# Network Parameters\n",
    "num_input = 784 # MNIST data input (img shape: 28*28)\n",
    "num_classes = 10 # MNIST total classes (0-9 digits)\n",
    "dropout = 0.75 # Dropout, probability to keep units\n",
    "\n",
    "# tf Graph input\n",
    "X = tf.placeholder(tf.float32, [None, num_input])\n",
    "Y = tf.placeholder(tf.float32, [None, num_classes])\n",
    "keep_prob = tf.placeholder(tf.float32) # dropout (keep probability)"
   ]
  },
  {
   "cell_type": "code",
   "execution_count": 46,
   "metadata": {
    "collapsed": true
   },
   "outputs": [],
   "source": [
    "# Create some wrappers for simplicity\n",
    "def conv2d(x, W, b, strides=1):\n",
    "    # Conv2D wrapper, with bias and relu activation\n",
    "    x = tf.nn.conv2d(x, W, strides=[1, strides, strides, 1], padding='SAME')\n",
    "    x = tf.nn.bias_add(x, b)\n",
    "    return tf.nn.relu(x)\n",
    "\n",
    "\n",
    "def maxpool2d(x, k=2):\n",
    "    # MaxPool2D wrapper\n",
    "    return tf.nn.max_pool(x, ksize=[1, k, k, 1], strides=[1, k, k, 1],\n",
    "                          padding='SAME')\n",
    "\n",
    "\n",
    "# Create model\n",
    "def conv_net(x, weights, biases, dropout):\n",
    "    # MNIST data input is a 1-D vector of 784 features (28*28 pixels)\n",
    "    # Reshape to match picture format [Height x Width x Channel]\n",
    "    # Tensor input become 4-D: [Batch Size, Height, Width, Channel]\n",
    "    x = tf.reshape(x, shape=[-1, 28, 28, 1])\n",
    "\n",
    "    # Convolution Layer\n",
    "    conv1 = conv2d(x, weights['wc1'], biases['bc1'])\n",
    "    conv1=tf.nn.elu(conv1)\n",
    "    # Max Pooling (down-sampling)\n",
    "    conv1 = maxpool2d(conv1, k=2)\n",
    "\n",
    "    \n",
    "    # Convolution Layer\n",
    "    conv2 = conv2d(conv1, weights['wc2'], biases['bc2'])\n",
    "    conv2=tf.nn.elu(conv2)\n",
    "    # Max Pooling (down-sampling)\n",
    "    conv2 = maxpool2d(conv2, k=2)\n",
    "    \n",
    "    # Convolution Layer\n",
    "    conv3 = conv2d(conv2, weights['wc3'], biases['bc3'])\n",
    "    conv3=tf.nn.elu(conv3)\n",
    "    # Max Pooling (down-sampling)\n",
    "    conv3 = maxpool2d(conv3, k=2)\n",
    "\n",
    "    # Fully connected layer\n",
    "    # Reshape conv2 output to fit fully connected layer input\n",
    "    fc1 = tf.reshape(conv3, [-1, weights['wd1'].get_shape().as_list()[0]])\n",
    "    fc1 = tf.add(tf.matmul(fc1, weights['wd1']), biases['bd1'])\n",
    "    fc1 = tf.nn.relu(fc1)\n",
    "    # Apply Dropout\n",
    "    fc1 = tf.nn.dropout(fc1, dropout)\n",
    "\n",
    "    # Output, class prediction\n",
    "    out = tf.add(tf.matmul(fc1, weights['out']), biases['out'])\n",
    "    return out"
   ]
  },
  {
   "cell_type": "code",
   "execution_count": 47,
   "metadata": {
    "collapsed": true
   },
   "outputs": [],
   "source": [
    "# Store layers weight & bias\n",
    "weights = {\n",
    "    # 5x5 conv, 1 input, 32 outputs\n",
    "    'wc1': tf.Variable(tf.random_normal([5, 5, 1, 32])),\n",
    "    # 5x5 conv, 32 inputs, 64 outputs\n",
    "    'wc2': tf.Variable(tf.random_normal([5, 5, 32, 64])),\n",
    "    # 3x3 conv, 64 inputs, 70 outputs\n",
    "    'wc3': tf.Variable(tf.random_normal([3, 3, 64, 70])),\n",
    "    # fully connected, 7*7*70 inputs, 1024 outputs\n",
    "    'wd1': tf.Variable(tf.random_normal([4*4*70, 1024])),\n",
    "    # 1024 inputs, 10 outputs (class prediction)\n",
    "    'out': tf.Variable(tf.random_normal([1024, num_classes]))\n",
    "}\n",
    "\n",
    "biases = {\n",
    "    'bc1': tf.Variable(tf.random_normal([32])),\n",
    "    'bc2': tf.Variable(tf.random_normal([64])),\n",
    "    'bc3': tf.Variable(tf.random_normal([70])),\n",
    "    'bd1': tf.Variable(tf.random_normal([1024])),\n",
    "    'out': tf.Variable(tf.random_normal([num_classes]))\n",
    "}\n",
    "\n",
    "# Construct model\n",
    "logits = conv_net(X, weights, biases, keep_prob)\n",
    "prediction = tf.nn.softmax(logits)\n",
    "\n",
    "# Define loss and optimizer\n",
    "loss_op = tf.reduce_mean(tf.nn.softmax_cross_entropy_with_logits(\n",
    "    logits=logits, labels=Y))\n",
    "optimizer = tf.train.AdamOptimizer(learning_rate=learning_rate)\n",
    "train_op = optimizer.minimize(loss_op)\n",
    "\n",
    "\n",
    "# Evaluate model\n",
    "correct_pred = tf.equal(tf.argmax(prediction, 1), tf.argmax(Y, 1))\n",
    "accuracy = tf.reduce_mean(tf.cast(correct_pred, tf.float32))\n",
    "\n",
    "# Initialize the variables (i.e. assign their default value)\n",
    "init = tf.global_variables_initializer()"
   ]
  },
  {
   "cell_type": "code",
   "execution_count": 49,
   "metadata": {},
   "outputs": [
    {
     "name": "stdout",
     "output_type": "stream",
     "text": [
      "Step 1, Minibatch Loss= 656519.2500, Training Accuracy= 0.117\n",
      "Step 10, Minibatch Loss= 265073.2188, Training Accuracy= 0.141\n",
      "Step 20, Minibatch Loss= 110508.3359, Training Accuracy= 0.336\n",
      "Step 30, Minibatch Loss= 80860.7969, Training Accuracy= 0.516\n",
      "Step 40, Minibatch Loss= 50808.3242, Training Accuracy= 0.594\n",
      "Step 50, Minibatch Loss= 36468.0234, Training Accuracy= 0.664\n",
      "Step 60, Minibatch Loss= 35778.5859, Training Accuracy= 0.719\n",
      "Step 70, Minibatch Loss= 22110.0566, Training Accuracy= 0.812\n",
      "Step 80, Minibatch Loss= 23530.9551, Training Accuracy= 0.797\n",
      "Step 90, Minibatch Loss= 31989.5762, Training Accuracy= 0.727\n",
      "Step 100, Minibatch Loss= 21914.1602, Training Accuracy= 0.836\n",
      "Step 110, Minibatch Loss= 27258.9375, Training Accuracy= 0.766\n",
      "Step 120, Minibatch Loss= 21694.3750, Training Accuracy= 0.859\n",
      "Step 130, Minibatch Loss= 17088.5293, Training Accuracy= 0.844\n",
      "Step 140, Minibatch Loss= 18012.9629, Training Accuracy= 0.867\n",
      "Step 150, Minibatch Loss= 13595.8457, Training Accuracy= 0.836\n",
      "Step 160, Minibatch Loss= 14458.1660, Training Accuracy= 0.867\n",
      "Step 170, Minibatch Loss= 13465.4766, Training Accuracy= 0.898\n",
      "Step 180, Minibatch Loss= 16389.4531, Training Accuracy= 0.812\n",
      "Step 190, Minibatch Loss= 11723.5518, Training Accuracy= 0.891\n",
      "Step 200, Minibatch Loss= 8146.3911, Training Accuracy= 0.930\n",
      "Step 210, Minibatch Loss= 11524.2012, Training Accuracy= 0.898\n",
      "Step 220, Minibatch Loss= 9770.8652, Training Accuracy= 0.867\n",
      "Step 230, Minibatch Loss= 5382.6865, Training Accuracy= 0.930\n",
      "Step 240, Minibatch Loss= 4298.2637, Training Accuracy= 0.930\n",
      "Step 250, Minibatch Loss= 7570.5146, Training Accuracy= 0.914\n",
      "Step 260, Minibatch Loss= 2550.5581, Training Accuracy= 0.938\n",
      "Step 270, Minibatch Loss= 3957.3594, Training Accuracy= 0.945\n",
      "Step 280, Minibatch Loss= 6822.9531, Training Accuracy= 0.922\n",
      "Step 290, Minibatch Loss= 10638.1602, Training Accuracy= 0.930\n",
      "Step 300, Minibatch Loss= 6803.3677, Training Accuracy= 0.914\n",
      "Step 310, Minibatch Loss= 10328.1055, Training Accuracy= 0.914\n",
      "Step 320, Minibatch Loss= 2259.7925, Training Accuracy= 0.961\n",
      "Step 330, Minibatch Loss= 4419.4473, Training Accuracy= 0.938\n",
      "Step 340, Minibatch Loss= 4707.0327, Training Accuracy= 0.922\n",
      "Step 350, Minibatch Loss= 2351.5603, Training Accuracy= 0.953\n",
      "Step 360, Minibatch Loss= 983.0242, Training Accuracy= 0.969\n",
      "Step 370, Minibatch Loss= 6904.9727, Training Accuracy= 0.922\n",
      "Step 380, Minibatch Loss= 4235.4341, Training Accuracy= 0.953\n",
      "Step 390, Minibatch Loss= 7373.5654, Training Accuracy= 0.906\n",
      "Step 400, Minibatch Loss= 4891.1602, Training Accuracy= 0.922\n",
      "Step 410, Minibatch Loss= 1931.2776, Training Accuracy= 0.977\n",
      "Step 420, Minibatch Loss= 7333.1777, Training Accuracy= 0.922\n",
      "Step 430, Minibatch Loss= 8535.8809, Training Accuracy= 0.898\n",
      "Step 440, Minibatch Loss= 3629.9126, Training Accuracy= 0.938\n",
      "Step 450, Minibatch Loss= 2269.7075, Training Accuracy= 0.945\n",
      "Step 460, Minibatch Loss= 646.8134, Training Accuracy= 0.961\n",
      "Step 470, Minibatch Loss= 5065.5103, Training Accuracy= 0.922\n",
      "Step 480, Minibatch Loss= 4775.1357, Training Accuracy= 0.969\n",
      "Step 490, Minibatch Loss= 2328.3518, Training Accuracy= 0.961\n",
      "Step 500, Minibatch Loss= 2883.5332, Training Accuracy= 0.969\n",
      "Optimization Finished!\n",
      "Testing Accuracy: 0.9375\n"
     ]
    },
    {
     "data": {
      "image/png": "[encoded data removed]",
      "text/plain": [
       "<matplotlib.figure.Figure at 0x13392cf98>"
      ]
     },
     "metadata": {},
     "output_type": "display_data"
    }
   ],
   "source": [
    "# Start training\n",
    "with tf.Session() as sess:\n",
    "\n",
    "    # Run the initializer\n",
    "    sess.run(init)\n",
    "\n",
    "    for step in range(1, num_steps+1):\n",
    "        batch_x, batch_y = mnist.train.next_batch(batch_size)\n",
    "        # Run optimization op (backprop)\n",
    "        sess.run(train_op, feed_dict={X: batch_x, Y: batch_y, keep_prob: dropout})\n",
    "        if step % display_step == 0 or step == 1:\n",
    "            # Calculate batch loss and accuracy\n",
    "            loss, acc = sess.run([loss_op, accuracy], feed_dict={X: batch_x,\n",
    "                                                                 Y: batch_y,\n",
    "                                                                 keep_prob: 1.0})\n",
    "            print(\"Step \" + str(step) + \", Minibatch Loss= \" + \\\n",
    "                  \"{:.4f}\".format(loss) + \", Training Accuracy= \" + \\\n",
    "                  \"{:.3f}\".format(acc))\n",
    "\n",
    "    print(\"Optimization Finished!\")\n",
    "\n",
    "    # Calculate accuracy for 256 MNIST test images\n",
    "    print(\"Testing Accuracy:\", \\\n",
    "        sess.run(accuracy, feed_dict={X: mnist.test.images[:256],\n",
    "                                      Y: mnist.test.labels[:256],\n",
    "                                      keep_prob: 1.0}))\n",
    "    \n",
    "       \n",
    "    filter_reshape = sess.run(tf.reshape(weights['wc1'], [32, 1, 5, 5]))\n",
    "    fig,ax = plt.subplots(nrows=1, ncols=32, figsize = (32,1))\n",
    "    for i in range(32):\n",
    "        ax[i].imshow(filter_reshape[i][0])                      \n",
    "    plt.show()\n",
    "\n"
   ]
  },
  {
   "cell_type": "code",
   "execution_count": null,
   "metadata": {
    "collapsed": true
   },
   "outputs": [],
   "source": []
  },
  {
   "cell_type": "code",
   "execution_count": null,
   "metadata": {
    "collapsed": true
   },
   "outputs": [],
   "source": []
  }
 ],
 "metadata": {
  "kernelspec": {
   "display_name": "Python 3",
   "language": "python",
   "name": "python3"
  },
  "language_info": {
   "codemirror_mode": {
    "name": "ipython",
    "version": 3
   },
   "file_extension": ".py",
   "mimetype": "text/x-python",
   "name": "python",
   "nbconvert_exporter": "python",
   "pygments_lexer": "ipython3",
   "version": "3.6.4"
  }
 },
 "nbformat": 4,
 "nbformat_minor": 2
}
