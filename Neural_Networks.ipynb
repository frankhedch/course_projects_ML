{
 "cells": [
  {
   "cell_type": "code",
   "execution_count": 1,
   "metadata": {},
   "outputs": [
    {
     "name": "stdout",
     "output_type": "stream",
     "text": [
      "Extracting /tmp/data/train-images-idx3-ubyte.gz\n",
      "Extracting /tmp/data/train-labels-idx1-ubyte.gz\n",
      "Extracting /tmp/data/t10k-images-idx3-ubyte.gz\n",
      "Extracting /tmp/data/t10k-labels-idx1-ubyte.gz\n"
     ]
    }
   ],
   "source": [
    "from __future__ import print_function\n",
    "\n",
    "# Import MNIST data\n",
    "from tensorflow.examples.tutorials.mnist import input_data\n",
    "mnist = input_data.read_data_sets(\"/tmp/data/\", one_hot=True)\n",
    "\n",
    "import tensorflow as tf"
   ]
  },
  {
   "cell_type": "code",
   "execution_count": 2,
   "metadata": {
    "collapsed": true
   },
   "outputs": [],
   "source": [
    "# Parameters\n",
    "learning_rate = 0.001\n",
    "num_steps = 5000\n",
    "batch_size = 128\n",
    "display_step = 100\n",
    "\n",
    "# Network Parameters\n",
    "n_hidden_1 = 256 # 1st layer number of neurons\n",
    "n_hidden_2 = 256 # 2nd layer number of neurons\n",
    "n_hidden_3 = 260\n",
    "\n",
    "num_input = 784 # MNIST data input (img shape: 28*28)\n",
    "num_classes = 10 # MNIST total classes (0-9 digits)\n",
    "\n",
    "# tf Graph input\n",
    "X = tf.placeholder(\"float\", [None, num_input])\n",
    "Y = tf.placeholder(\"float\", [None, num_classes])"
   ]
  },
  {
   "cell_type": "code",
   "execution_count": 3,
   "metadata": {
    "collapsed": true
   },
   "outputs": [],
   "source": [
    "# Store layers weight & bias\n",
    "weights = {\n",
    "    'h1': tf.Variable(tf.random_normal([num_input, n_hidden_1])),\n",
    "    'h2': tf.Variable(tf.random_normal([n_hidden_1, n_hidden_2])),\n",
    "    'h3': tf.Variable(tf.random_normal([n_hidden_2, n_hidden_3])),\n",
    "    'out': tf.Variable(tf.random_normal([n_hidden_3, num_classes]))\n",
    "}\n",
    "biases = {\n",
    "    'b1': tf.Variable(tf.random_normal([n_hidden_1])),\n",
    "    'b2': tf.Variable(tf.random_normal([n_hidden_2])),\n",
    "    'b3': tf.Variable(tf.random_normal([n_hidden_3])),\n",
    "    'out': tf.Variable(tf.random_normal([num_classes]))\n",
    "}"
   ]
  },
  {
   "cell_type": "code",
   "execution_count": 4,
   "metadata": {
    "collapsed": true
   },
   "outputs": [],
   "source": [
    "# Create model\n",
    "def neural_net(x):\n",
    "    # Hidden fully connected layer with 256 neurons\n",
    "    layer_1 = tf.add(tf.matmul(x, weights['h1']), biases['b1'])\n",
    "    # Hidden fully connected layer with 256 neurons\n",
    "    layer_1=tf.nn.elu(layer_1)\n",
    "    layer_2 = tf.add(tf.matmul(layer_1, weights['h2']), biases['b2'])\n",
    "    # Output fully connected layer with a neuron for each class\n",
    "    layer_2=tf.nn.elu(layer_2)\n",
    "    layer_3 = tf.add(tf.matmul(layer_2, weights['h3']), biases['b3'])\n",
    "    out_layer = tf.matmul(layer_3, weights['out']) + biases['out']\n",
    "    return out_layer"
   ]
  },
  {
   "cell_type": "code",
   "execution_count": 5,
   "metadata": {
    "collapsed": true
   },
   "outputs": [],
   "source": [
    "# Construct model\n",
    "logits = neural_net(X)\n",
    "\n",
    "# Define loss and optimizer\n",
    "loss_op = tf.reduce_mean(tf.nn.softmax_cross_entropy_with_logits(\n",
    "    logits=logits, labels=Y))\n",
    "optimizer = tf.train.AdamOptimizer(learning_rate=learning_rate)\n",
    "train_op = optimizer.minimize(loss_op)\n",
    "\n",
    "# Evaluate model (with test logits, for dropout to be disabled)\n",
    "correct_pred = tf.equal(tf.argmax(logits, 1), tf.argmax(Y, 1))\n",
    "accuracy = tf.reduce_mean(tf.cast(correct_pred, tf.float32))\n",
    "\n",
    "# Initialize the variables (i.e. assign their default value)\n",
    "init = tf.global_variables_initializer()"
   ]
  },
  {
   "cell_type": "code",
   "execution_count": 6,
   "metadata": {},
   "outputs": [
    {
     "name": "stdout",
     "output_type": "stream",
     "text": [
      "Step 1, Minibatch Loss= 32671.8438, Training Accuracy= 0.078\n",
      "Step 100, Minibatch Loss= 2701.2322, Training Accuracy= 0.703\n",
      "Step 200, Minibatch Loss= 1061.0883, Training Accuracy= 0.797\n",
      "Step 300, Minibatch Loss= 1212.1542, Training Accuracy= 0.781\n",
      "Step 400, Minibatch Loss= 805.2095, Training Accuracy= 0.867\n",
      "Step 500, Minibatch Loss= 1099.5266, Training Accuracy= 0.836\n",
      "Step 600, Minibatch Loss= 906.3553, Training Accuracy= 0.852\n",
      "Step 700, Minibatch Loss= 456.7250, Training Accuracy= 0.906\n",
      "Step 800, Minibatch Loss= 533.7363, Training Accuracy= 0.914\n",
      "Step 900, Minibatch Loss= 290.6436, Training Accuracy= 0.930\n",
      "Step 1000, Minibatch Loss= 344.6755, Training Accuracy= 0.898\n",
      "Step 1100, Minibatch Loss= 326.7176, Training Accuracy= 0.930\n",
      "Step 1200, Minibatch Loss= 107.5753, Training Accuracy= 0.945\n",
      "Step 1300, Minibatch Loss= 254.3343, Training Accuracy= 0.914\n",
      "Step 1400, Minibatch Loss= 170.3285, Training Accuracy= 0.953\n",
      "Step 1500, Minibatch Loss= 104.8783, Training Accuracy= 0.977\n",
      "Step 1600, Minibatch Loss= 328.2252, Training Accuracy= 0.898\n",
      "Step 1700, Minibatch Loss= 215.6037, Training Accuracy= 0.953\n",
      "Step 1800, Minibatch Loss= 93.0678, Training Accuracy= 0.953\n",
      "Step 1900, Minibatch Loss= 122.4771, Training Accuracy= 0.969\n",
      "Step 2000, Minibatch Loss= 244.5109, Training Accuracy= 0.945\n",
      "Step 2100, Minibatch Loss= 228.4906, Training Accuracy= 0.945\n",
      "Step 2200, Minibatch Loss= 48.2652, Training Accuracy= 0.977\n",
      "Step 2300, Minibatch Loss= 47.5968, Training Accuracy= 0.953\n",
      "Step 2400, Minibatch Loss= 104.7782, Training Accuracy= 0.977\n",
      "Step 2500, Minibatch Loss= 246.3096, Training Accuracy= 0.930\n",
      "Step 2600, Minibatch Loss= 90.7206, Training Accuracy= 0.953\n",
      "Step 2700, Minibatch Loss= 34.2173, Training Accuracy= 0.977\n",
      "Step 2800, Minibatch Loss= 107.0251, Training Accuracy= 0.961\n",
      "Step 2900, Minibatch Loss= 12.3915, Training Accuracy= 0.984\n",
      "Step 3000, Minibatch Loss= 4.8250, Training Accuracy= 0.992\n",
      "Step 3100, Minibatch Loss= 153.1074, Training Accuracy= 0.945\n",
      "Step 3200, Minibatch Loss= 13.6410, Training Accuracy= 0.992\n",
      "Step 3300, Minibatch Loss= 47.4013, Training Accuracy= 0.953\n",
      "Step 3400, Minibatch Loss= 22.5747, Training Accuracy= 0.984\n",
      "Step 3500, Minibatch Loss= 111.3581, Training Accuracy= 0.969\n",
      "Step 3600, Minibatch Loss= 80.0429, Training Accuracy= 0.961\n",
      "Step 3700, Minibatch Loss= 20.5320, Training Accuracy= 0.961\n",
      "Step 3800, Minibatch Loss= 88.4013, Training Accuracy= 0.953\n",
      "Step 3900, Minibatch Loss= 108.9502, Training Accuracy= 0.953\n",
      "Step 4000, Minibatch Loss= 8.0318, Training Accuracy= 0.992\n",
      "Step 4100, Minibatch Loss= 40.4030, Training Accuracy= 0.961\n",
      "Step 4200, Minibatch Loss= 32.1026, Training Accuracy= 0.992\n",
      "Step 4300, Minibatch Loss= 7.7908, Training Accuracy= 0.984\n",
      "Step 4400, Minibatch Loss= 67.2385, Training Accuracy= 0.953\n",
      "Step 4500, Minibatch Loss= 64.4599, Training Accuracy= 0.969\n",
      "Step 4600, Minibatch Loss= 31.2692, Training Accuracy= 0.977\n",
      "Step 4700, Minibatch Loss= 0.4577, Training Accuracy= 0.992\n",
      "Step 4800, Minibatch Loss= 16.3823, Training Accuracy= 0.984\n",
      "Step 4900, Minibatch Loss= 15.9635, Training Accuracy= 0.984\n",
      "Step 5000, Minibatch Loss= 51.3319, Training Accuracy= 0.969\n",
      "Optimization Finished!\n",
      "Testing Accuracy: 0.9443\n"
     ]
    }
   ],
   "source": [
    "#Start training\n",
    "with tf.Session() as sess:\n",
    "\n",
    "    # Run the initializer\n",
    "    sess.run(init)\n",
    "\n",
    "    for step in range(1, num_steps+1):\n",
    "        batch_x, batch_y = mnist.train.next_batch(batch_size)\n",
    "        # Run optimization op (backprop)\n",
    "        sess.run(train_op, feed_dict={X: batch_x, Y: batch_y})\n",
    "        if step % display_step == 0 or step == 1:\n",
    "            # Calculate batch loss and accuracy\n",
    "            loss, acc = sess.run([loss_op, accuracy], feed_dict={X: batch_x,\n",
    "                                                                 Y: batch_y})\n",
    "            print(\"Step \" + str(step) + \", Minibatch Loss= \" + \\\n",
    "                  \"{:.4f}\".format(loss) + \", Training Accuracy= \" + \\\n",
    "                  \"{:.3f}\".format(acc))\n",
    "\n",
    "    print(\"Optimization Finished!\")\n",
    "\n",
    "    # Calculate accuracy for MNIST test images\n",
    "    print(\"Testing Accuracy:\", \\\n",
    "        sess.run(accuracy, feed_dict={X: mnist.test.images,\n",
    "                                      Y: mnist.test.labels}))\n"
   ]
  }
 ],
 "metadata": {
  "kernelspec": {
   "display_name": "Python 3",
   "language": "python",
   "name": "python3"
  },
  "language_info": {
   "codemirror_mode": {
    "name": "ipython",
    "version": 3
   },
   "file_extension": ".py",
   "mimetype": "text/x-python",
   "name": "python",
   "nbconvert_exporter": "python",
   "pygments_lexer": "ipython3",
   "version": "3.6.4"
  }
 },
 "nbformat": 4,
 "nbformat_minor": 2
}
