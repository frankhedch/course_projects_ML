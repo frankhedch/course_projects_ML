{
 "cells": [
  {
   "cell_type": "code",
   "execution_count": 1,
   "metadata": {
    "collapsed": true
   },
   "outputs": [],
   "source": [
    "%matplotlib inline \n",
    "import requests\n",
    "import pprint # for pretty printing\n",
    "import os # listing and managing file patho\n",
    "import zipfile # for zip and unzip utilities\n",
    "import pandas # for data analysis\n",
    "import csv#导入numpy的库函数\n",
    "import numpy as np\n",
    "import matplotlib.pyplot as plt # for plotting\n",
    "from textblob import TextBlob\n",
    "from sklearn.naive_bayes import MultinomialNB\n",
    "from sklearn.svm import SVC, LinearSVC\n",
    "from sklearn.pipeline import Pipeline\n",
    "from sklearn.metrics import classification_report, f1_score, accuracy_score, confusion_matrix\n",
    "from sklearn.feature_extraction.text import CountVectorizer # for converting documents in word count\n",
    "from cvxopt import matrix, solvers, spmatrix, sparse\n",
    "from sklearn import svm\n",
    "from array import array"
   ]
  },
  {
   "cell_type": "code",
   "execution_count": 2,
   "metadata": {
    "collapsed": true
   },
   "outputs": [],
   "source": [
    "with  open('./data/SMSSpamCollection', 'r') as f:\n",
    "    sms_messages = f.readlines()\n",
    "sms_messages = [m.rstrip() for m in sms_messages]\n",
    "messages = pandas.read_csv('./data/SMSSpamCollection', sep='\\t', quoting=csv.QUOTE_NONE,\n",
    "                           names=[\"label\", \"message\"])\n",
    "messages['length'] = messages['message'].map(lambda text: len(text))\n",
    "def split_into_tokens(message):\n",
    "    return TextBlob(message).words \n",
    "messages.message.head().apply(split_into_tokens)\n",
    "def split_into_lemmas(message):\n",
    "    words = TextBlob(message).words.lower()\n",
    "    # for each word, take its \"base form\" = lemma \n",
    "    return [word.lemma for word in words]\n",
    "\n",
    "# see how head portion changes\n",
    "messages.message.head().apply(split_into_lemmas)\n",
    "bow_transformer = CountVectorizer(analyzer=split_into_lemmas).fit(messages['message'])\n",
    "messages_bow = bow_transformer.transform(messages['message'])#messages_bow是数组化的文本了"
   ]
  },
  {
   "cell_type": "code",
   "execution_count": 3,
   "metadata": {},
   "outputs": [
    {
     "name": "stdout",
     "output_type": "stream",
     "text": [
      "[-1. -1. -1. ..., -1.  1. -1.]\n"
     ]
    }
   ],
   "source": [
    "np.random.seed(1)\n",
    "N= 5574# number of sms message\n",
    "train_examples = int(5574*80/100)\n",
    "test_examples = N- train_examples\n",
    "random_indices = np.random.permutation(range(N))\n",
    "train_indices = random_indices[:train_examples]\n",
    "assert len(train_indices) == train_examples, \"slicing issue\"\n",
    "test_indices = random_indices[train_examples: N+1]\n",
    "assert len(test_indices) == test_examples, \"slicing issue\"\n",
    "X=messages_bow[train_indices]\n",
    "K=messages_bow[train_indices]\n",
    "_Y=messages.label[train_indices]\n",
    "Y=np.zeros((_Y.shape[0]))\n",
    "for i,j in zip(range(_Y.shape[0]),_Y):\n",
    "    if j == 'spam':\n",
    "        Y[i]=1\n",
    "    else:\n",
    "        Y[i]=-1\n",
    "print(Y)   "
   ]
  },
  {
   "cell_type": "code",
   "execution_count": 4,
   "metadata": {
    "collapsed": true
   },
   "outputs": [],
   "source": [
    "n=X.shape[0]\n",
    "for i in range(n):\n",
    "    K[i]=Y[i]*K[i]    \n",
    "K=np.dot(K,K.T)"
   ]
  },
  {
   "cell_type": "code",
   "execution_count": 5,
   "metadata": {
    "collapsed": true
   },
   "outputs": [],
   "source": [
    "def scipy_sparse_to_spmatrix(A):\n",
    "    coo = A.tocoo()\n",
    "    SP = spmatrix(coo.data.tolist(), coo.row.tolist(), coo.col.tolist(), size=A.shape)\n",
    "    return SP"
   ]
  },
  {
   "cell_type": "code",
   "execution_count": 6,
   "metadata": {},
   "outputs": [
    {
     "name": "stdout",
     "output_type": "stream",
     "text": [
      "     pcost       dcost       gap    pres   dres\n",
      " 0: -4.8615e+01 -1.5859e+02  1e+04  8e+01  2e+00\n",
      " 1: -3.0513e+01 -1.5212e+02  3e+03  2e+01  4e-01\n",
      " 2: -1.9294e+01 -8.5681e+01  6e+02  4e+00  9e-02\n",
      " 3: -1.3239e+01 -5.9550e+01  2e+02  1e+00  3e-02\n",
      " 4: -1.2279e+01 -4.2129e+01  6e+01  2e-01  5e-03\n",
      " 5: -1.6173e+01 -3.0174e+01  2e+01  5e-02  1e-03\n",
      " 6: -1.8538e+01 -2.6146e+01  8e+00  2e-03  4e-05\n",
      " 7: -2.0666e+01 -2.4086e+01  3e+00  5e-04  1e-05\n",
      " 8: -2.1728e+01 -2.3318e+01  2e+00  7e-15  1e-14\n",
      " 9: -2.2506e+01 -2.2892e+01  4e-01  5e-15  1e-14\n",
      "10: -2.2728e+01 -2.2804e+01  8e-02  2e-15  1e-14\n",
      "11: -2.2787e+01 -2.2791e+01  4e-03  8e-16  1e-14\n",
      "12: -2.2790e+01 -2.2790e+01  7e-05  4e-15  1e-14\n",
      "13: -2.2790e+01 -2.2790e+01  2e-06  2e-15  1e-14\n",
      "Optimal solution found.\n"
     ]
    }
   ],
   "source": [
    "P=scipy_sparse_to_spmatrix(K)\n",
    "q=matrix(-np.ones((n, 1)))\n",
    "G=matrix(-np.eye(n))\n",
    "h=matrix(np.zeros(n))\n",
    "b=matrix(np.zeros(1))\n",
    "A=matrix(Y.reshape(1,4459))\n",
    "solution=solvers.qp(P, q, G, h, A, b)\n",
    "arfa=solution['x']\n",
    "arfa=np.array(arfa)"
   ]
  },
  {
   "cell_type": "code",
   "execution_count": 7,
   "metadata": {},
   "outputs": [
    {
     "name": "stdout",
     "output_type": "stream",
     "text": [
      "[[ -1.11554251e-09  -2.89385243e-10   0.00000000e+00 ...,  -3.81481528e-10\n",
      "   -2.81548265e-07  -2.81548265e-07]]\n"
     ]
    }
   ],
   "source": [
    "w=np.zeros((1,8859))\n",
    "for i in range(n):\n",
    "    w+=arfa[i]*Y[i]*X[i]\n",
    "print(w)    "
   ]
  },
  {
   "cell_type": "code",
   "execution_count": 8,
   "metadata": {},
   "outputs": [
    {
     "name": "stdout",
     "output_type": "stream",
     "text": [
      "-5.41960853858\n"
     ]
    }
   ],
   "source": [
    "w0=Y.reshape(4459,1)-X.dot(w.T)\n",
    "_w0=np.min(w0)\n",
    "bia_opt=0.6\n",
    "print(_w0)"
   ]
  },
  {
   "cell_type": "code",
   "execution_count": 9,
   "metadata": {
    "collapsed": true
   },
   "outputs": [],
   "source": [
    "norm=np.linalg.norm(w)\n",
    "w,_w0=w/norm,bia_opt+_w0/norm"
   ]
  },
  {
   "cell_type": "code",
   "execution_count": 10,
   "metadata": {
    "collapsed": true
   },
   "outputs": [],
   "source": [
    "testdata=messages_bow[test_indices]\n",
    "result=[]\n",
    "result=testdata.dot(w.T)+_w0"
   ]
  },
  {
   "cell_type": "code",
   "execution_count": 11,
   "metadata": {
    "collapsed": true
   },
   "outputs": [],
   "source": [
    "prediction=['a']*result.shape[0]\n",
    "for i in range (result.shape[0]):\n",
    "    if result[i]>0:\n",
    "        prediction[i]='spam'\n",
    "    else:\n",
    "        prediction[i]='ham'"
   ]
  },
  {
   "cell_type": "code",
   "execution_count": 12,
   "metadata": {},
   "outputs": [
    {
     "name": "stdout",
     "output_type": "stream",
     "text": [
      "accuracy 0.983856502242\n"
     ]
    }
   ],
   "source": [
    "print ('accuracy', accuracy_score(messages.label[test_indices],prediction))"
   ]
  },
  {
   "cell_type": "code",
   "execution_count": 13,
   "metadata": {},
   "outputs": [
    {
     "data": {
      "text/plain": [
       "LinearSVC(C=1.0, class_weight=None, dual=True, fit_intercept=True,\n",
       "     intercept_scaling=1, loss='squared_hinge', max_iter=1000,\n",
       "     multi_class='ovr', penalty='l2', random_state=None, tol=0.0001,\n",
       "     verbose=0)"
      ]
     },
     "execution_count": 13,
     "metadata": {},
     "output_type": "execute_result"
    }
   ],
   "source": [
    "clf = svm.LinearSVC()  \n",
    "clf.fit(X,Y)"
   ]
  },
  {
   "cell_type": "code",
   "execution_count": 14,
   "metadata": {
    "collapsed": true
   },
   "outputs": [],
   "source": [
    "result_skl = clf.predict(testdata)\n",
    "prediction_skl=['a']*result_skl.shape[0]\n",
    "for i in range (result_skl.shape[0]):\n",
    "    if result_skl[i]>0:\n",
    "        prediction_skl[i]='spam'\n",
    "    else:\n",
    "        prediction_skl[i]='ham'       "
   ]
  },
  {
   "cell_type": "code",
   "execution_count": 15,
   "metadata": {},
   "outputs": [
    {
     "name": "stdout",
     "output_type": "stream",
     "text": [
      "accuracy 0.983856502242\n"
     ]
    }
   ],
   "source": [
    "print ('accuracy', accuracy_score(messages.label[test_indices],prediction_skl))"
   ]
  },
  {
   "cell_type": "code",
   "execution_count": null,
   "metadata": {
    "collapsed": true
   },
   "outputs": [],
   "source": []
  }
 ],
 "metadata": {
  "kernelspec": {
   "display_name": "Python 3",
   "language": "python",
   "name": "python3"
  },
  "language_info": {
   "codemirror_mode": {
    "name": "ipython",
    "version": 3
   },
   "file_extension": ".py",
   "mimetype": "text/x-python",
   "name": "python",
   "nbconvert_exporter": "python",
   "pygments_lexer": "ipython3",
   "version": "3.6.1"
  }
 },
 "nbformat": 4,
 "nbformat_minor": 2
}
