{
 "cells": [
  {
   "cell_type": "code",
   "execution_count": 16,
   "metadata": {
    "collapsed": true
   },
   "outputs": [],
   "source": [
    "%matplotlib inline \n",
    "import requests\n",
    "import pprint # for pretty printing\n",
    "import os # listing and managing file patho\n",
    "import zipfile # for zip and unzip utilities\n",
    "import pandas # for data analysis\n",
    "import csv#导入numpy的库函数\n",
    "import numpy as np\n",
    "import matplotlib.pyplot as plt # for plotting\n",
    "from textblob import TextBlob\n",
    "from sklearn.naive_bayes import MultinomialNB\n",
    "from sklearn.svm import SVC, LinearSVC\n",
    "from sklearn.pipeline import Pipeline\n",
    "from sklearn.metrics import classification_report, f1_score, accuracy_score, confusion_matrix\n",
    "from sklearn.feature_extraction.text import CountVectorizer # for converting documents in word count\n",
    "from cvxopt import matrix, solvers, spmatrix, sparse\n",
    "from sklearn import svm\n",
    "from array import array\n",
    "import scipy as sp"
   ]
  },
  {
   "cell_type": "code",
   "execution_count": 17,
   "metadata": {
    "collapsed": true
   },
   "outputs": [],
   "source": [
    "with  open('./data/SMSSpamCollection', 'r') as f:\n",
    "    sms_messages = f.readlines()\n",
    "sms_messages = [m.rstrip() for m in sms_messages]\n",
    "messages = pandas.read_csv('./data/SMSSpamCollection', sep='\\t', quoting=csv.QUOTE_NONE,\n",
    "                           names=[\"label\", \"message\"])\n",
    "messages['length'] = messages['message'].map(lambda text: len(text))\n",
    "def split_into_tokens(message):\n",
    "    return TextBlob(message).words \n",
    "messages.message.head().apply(split_into_tokens)\n",
    "def split_into_lemmas(message):\n",
    "    words = TextBlob(message).words.lower()\n",
    "    # for each word, take its \"base form\" = lemma \n",
    "    return [word.lemma for word in words]\n",
    "\n",
    "# see how head portion changes\n",
    "messages.message.head().apply(split_into_lemmas)\n",
    "bow_transformer = CountVectorizer(analyzer=split_into_lemmas).fit(messages['message'])\n",
    "messages_bow = bow_transformer.transform(messages['message'])#messages_bow是数组化的文本了"
   ]
  },
  {
   "cell_type": "code",
   "execution_count": 18,
   "metadata": {
    "collapsed": true
   },
   "outputs": [],
   "source": [
    "np.random.seed(1)\n",
    "N= 5574# number of sms message\n",
    "percent_step_size = int(5574*20/100)\n",
    "random_indices = np.random.permutation(range(N))\n",
    "train_indices = random_indices[:3*percent_step_size]\n",
    "valid_indices = random_indices[3*percent_step_size: 4*percent_step_size]\n",
    "test_indices = random_indices[4*percent_step_size: N+1]\n",
    "\n",
    "X=messages_bow[train_indices]\n",
    "_Y=messages.label[train_indices]\n",
    "Y=np.zeros((_Y.shape[0]))\n",
    "for i,j in zip(range(_Y.shape[0]),_Y):\n",
    "    if j == 'spam':\n",
    "        Y[i]=1\n",
    "    else:\n",
    "        Y[i]=-1 "
   ]
  },
  {
   "cell_type": "code",
   "execution_count": 19,
   "metadata": {
    "collapsed": true
   },
   "outputs": [],
   "source": [
    "#define C, kernel, and matrixs \n",
    "\n",
    "C=300\n",
    "def kernel(x,y):\n",
    "    gama=10\n",
    "    b=np.linalg.norm(np.subtract(x, y))**2\n",
    "    b=np.exp(-gama*b)\n",
    "    return b  \n",
    "_X=X.todense()\n",
    "X_v=messages_bow[valid_indices]\n",
    "n_v=X_v.shape[0]\n",
    "_X_v=X_v.todense()\n",
    "X_t=messages_bow[test_indices]\n",
    "n_t=X_t.shape[0]\n",
    "_X_t=X_t.todense()"
   ]
  },
  {
   "cell_type": "code",
   "execution_count": 20,
   "metadata": {
    "collapsed": true
   },
   "outputs": [],
   "source": [
    "#train the model\n",
    "n=X.shape[0]\n",
    "K=np.zeros((n,n))\n",
    "for i in range(n):\n",
    "    for j in range(n):\n",
    "        K[i,j]=kernel(_X[i],_X[j])"
   ]
  },
  {
   "cell_type": "code",
   "execution_count": 21,
   "metadata": {},
   "outputs": [
    {
     "name": "stdout",
     "output_type": "stream",
     "text": [
      "     pcost       dcost       gap    pres   dres\n",
      " 0:  7.8789e+06 -4.8913e+07  6e+07  1e-10  6e-14\n",
      " 1:  2.9998e+06 -6.0098e+06  9e+06  4e-11  5e-14\n",
      " 2:  4.7361e+05 -7.0087e+05  1e+06  2e-11  9e-15\n",
      " 3:  6.4121e+04 -8.8496e+04  2e+05  6e-11  7e-15\n",
      " 4:  7.1742e+03 -1.4511e+04  2e+04  2e-11  2e-15\n",
      " 5: -1.0784e+00 -2.9843e+03  3e+03  2e-11  9e-16\n",
      " 6: -6.8608e+02 -1.0186e+03  3e+02  3e-12  2e-16\n",
      " 7: -7.1185e+02 -7.2194e+02  1e+01  1e-12  8e-17\n",
      " 8: -7.1196e+02 -7.1209e+02  1e-01  2e-13  8e-17\n",
      " 9: -7.1196e+02 -7.1196e+02  1e-03  4e-14  8e-17\n",
      "10: -7.1196e+02 -7.1196e+02  1e-05  2e-15  6e-17\n",
      "Optimal solution found.\n"
     ]
    }
   ],
   "source": [
    "P=matrix(K)\n",
    "q=matrix(-np.ones((n, 1)))\n",
    "G_a=matrix(-np.eye(n))\n",
    "G_b=matrix(np.eye(n))\n",
    "G=matrix(np.vstack((G_a,G_b)))\n",
    "h_a=matrix(np.zeros(n))\n",
    "h_b=matrix(np.ones(n)*C)\n",
    "h=matrix(np.vstack((h_a,h_b)))\n",
    "b=matrix(np.zeros(1))\n",
    "A=matrix(Y.reshape(1,n))\n",
    "solution=solvers.qp(P, q, G, h, A, b)\n",
    "arfa=solution['x']\n",
    "arfa=np.array(arfa)"
   ]
  },
  {
   "cell_type": "code",
   "execution_count": 22,
   "metadata": {
    "collapsed": true
   },
   "outputs": [],
   "source": [
    "wx=np.zeros(n)\n",
    "w0=np.zeros(n)\n",
    "for i in range(n):\n",
    "    for j in range(n):\n",
    "        wx[i]+=arfa[j]*Y[j]*K[j,i]\n",
    "    w0[i]=Y[i]-wx[i] \n",
    "bias=np.mean(w0)"
   ]
  },
  {
   "cell_type": "code",
   "execution_count": 23,
   "metadata": {
    "collapsed": true
   },
   "outputs": [],
   "source": [
    "#validation process\n",
    "K_v=np.zeros((n,n_v))\n",
    "for i in range(n):\n",
    "    for j in range(n_v):\n",
    "        K_v[i,j]=kernel(_X[i],_X_v[j])"
   ]
  },
  {
   "cell_type": "code",
   "execution_count": 24,
   "metadata": {},
   "outputs": [
    {
     "name": "stdout",
     "output_type": "stream",
     "text": [
      "accuracy 0.893177737882\n"
     ]
    }
   ],
   "source": [
    "wx_v=np.zeros(n_v)\n",
    "Y_v=np.zeros(n_v)\n",
    "for i in range(n_v):\n",
    "    for j in range(n):\n",
    "        wx_v[i]+=arfa[j]*Y[j]*K_v[j,i]\n",
    "    Y_v[i]=wx_v[i]+bias\n",
    "\n",
    "prediction=['a']*Y_v.shape[0]\n",
    "for i in range (Y_v.shape[0]):\n",
    "    if Y_v[i]<0:\n",
    "        prediction[i]='ham'\n",
    "    else:\n",
    "        prediction[i]='spam'  \n",
    "\n",
    "print ('accuracy', accuracy_score(messages.label[valid_indices],prediction))   \n",
    "\n",
    "\n",
    "#Based on validation, set C as 300 and gamma as 10"
   ]
  },
  {
   "cell_type": "code",
   "execution_count": 25,
   "metadata": {
    "collapsed": true
   },
   "outputs": [],
   "source": [
    "#Testing\n",
    "K_t=np.zeros((n,n_t))\n",
    "for i in range(n):\n",
    "    for j in range(n_t):\n",
    "        K_t[i,j]=kernel(_X[i],_X_t[j])"
   ]
  },
  {
   "cell_type": "code",
   "execution_count": 26,
   "metadata": {},
   "outputs": [
    {
     "name": "stdout",
     "output_type": "stream",
     "text": [
      "accuracy 0.897137745975\n"
     ]
    }
   ],
   "source": [
    "wx_t=np.zeros(n_t)\n",
    "Y_t=np.zeros(n_t)\n",
    "for i in range(n_t):\n",
    "    for j in range(n):\n",
    "        wx_t[i]+=arfa[j]*Y[j]*K_t[j,i]\n",
    "    Y_t[i]=wx_t[i]+bias\n",
    "\n",
    "prediction_t=['a']*Y_t.shape[0]\n",
    "for i in range (Y_t.shape[0]):\n",
    "    if Y_t[i]<0:\n",
    "        prediction_t[i]='ham'\n",
    "    else:\n",
    "        prediction_t[i]='spam'  \n",
    "\n",
    "print ('accuracy', accuracy_score(messages.label[test_indices],prediction_t))   "
   ]
  },
  {
   "cell_type": "code",
   "execution_count": 27,
   "metadata": {},
   "outputs": [
    {
     "name": "stdout",
     "output_type": "stream",
     "text": [
      "accuracy 0.897137745975\n"
     ]
    }
   ],
   "source": [
    "#SKLearn\n",
    "svm = SVC(kernel='rbf', gamma=10, C=300)\n",
    "svm.fit(X, Y)\n",
    "result_skl = svm.predict(X_t)\n",
    "prediction_skl=['a']*result_skl.shape[0]\n",
    "for i in range (result_skl.shape[0]):\n",
    "    if result_skl[i]>0:\n",
    "        prediction_skl[i]='spam'\n",
    "    else:\n",
    "        prediction_skl[i]='ham' \n",
    "print ('accuracy', accuracy_score(messages.label[test_indices],prediction_skl))        "
   ]
  },
  {
   "cell_type": "code",
   "execution_count": null,
   "metadata": {
    "collapsed": true
   },
   "outputs": [],
   "source": []
  }
 ],
 "metadata": {
  "kernelspec": {
   "display_name": "Python 3",
   "language": "python",
   "name": "python3"
  },
  "language_info": {
   "codemirror_mode": {
    "name": "ipython",
    "version": 3
   },
   "file_extension": ".py",
   "mimetype": "text/x-python",
   "name": "python",
   "nbconvert_exporter": "python",
   "pygments_lexer": "ipython3",
   "version": "3.6.1"
  }
 },
 "nbformat": 4,
 "nbformat_minor": 2
}
