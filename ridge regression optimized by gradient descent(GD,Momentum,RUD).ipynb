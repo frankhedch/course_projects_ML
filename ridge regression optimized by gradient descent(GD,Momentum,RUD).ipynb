{
 "cells": [
  {
   "cell_type": "code",
   "execution_count": 357,
   "metadata": {},
   "outputs": [],
   "source": [
    "import pandas as pd\n",
    "import matplotlib.pyplot as plt\n",
    "import numpy as np"
   ]
  },
  {
   "cell_type": "code",
   "execution_count": 358,
   "metadata": {},
   "outputs": [],
   "source": [
    "with open('./Downloads/rawdata.csv','r') as f:\n",
    "    raw_data=f.readlines()"
   ]
  },
  {
   "cell_type": "code",
   "execution_count": 359,
   "metadata": {},
   "outputs": [
    {
     "data": {
      "text/plain": [
       "'\\ufeff1,1.000,0.000,0.000,0.000,0.000,0.000,0.625,0.714,0.382,0.688,0.560,0.500\\n'"
      ]
     },
     "execution_count": 359,
     "metadata": {},
     "output_type": "execute_result"
    }
   ],
   "source": [
    "raw_data[0]"
   ]
  },
  {
   "cell_type": "code",
   "execution_count": 360,
   "metadata": {},
   "outputs": [
    {
     "data": {
      "text/html": [
       "<div>\n",
       "<style scoped>\n",
       "    .dataframe tbody tr th:only-of-type {\n",
       "        vertical-align: middle;\n",
       "    }\n",
       "\n",
       "    .dataframe tbody tr th {\n",
       "        vertical-align: top;\n",
       "    }\n",
       "\n",
       "    .dataframe thead th {\n",
       "        text-align: right;\n",
       "    }\n",
       "</style>\n",
       "<table border=\"1\" class=\"dataframe\">\n",
       "  <thead>\n",
       "    <tr style=\"text-align: right;\">\n",
       "      <th></th>\n",
       "      <th>ID</th>\n",
       "      <th>Large B/P</th>\n",
       "      <th>Large ROE</th>\n",
       "      <th>Large S/P</th>\n",
       "      <th>Large Return Rate</th>\n",
       "      <th>Large Market Value</th>\n",
       "      <th>Small systematic Risk</th>\n",
       "      <th>Annual Return</th>\n",
       "      <th>Excess Return</th>\n",
       "      <th>Systematic Risk</th>\n",
       "      <th>Total Risk</th>\n",
       "      <th>Abs. Win Rate</th>\n",
       "      <th>Rel. Win Rate</th>\n",
       "    </tr>\n",
       "  </thead>\n",
       "  <tbody>\n",
       "    <tr>\n",
       "      <th>1</th>\n",
       "      <td>2</td>\n",
       "      <td>0.0</td>\n",
       "      <td>1.0</td>\n",
       "      <td>0.0</td>\n",
       "      <td>0.0</td>\n",
       "      <td>0.0</td>\n",
       "      <td>0.0</td>\n",
       "      <td>0.599</td>\n",
       "      <td>0.431</td>\n",
       "      <td>0.737</td>\n",
       "      <td>0.634</td>\n",
       "      <td>0.68</td>\n",
       "      <td>0.725</td>\n",
       "    </tr>\n",
       "    <tr>\n",
       "      <th>2</th>\n",
       "      <td>3</td>\n",
       "      <td>0.0</td>\n",
       "      <td>0.0</td>\n",
       "      <td>1.0</td>\n",
       "      <td>0.0</td>\n",
       "      <td>0.0</td>\n",
       "      <td>0.0</td>\n",
       "      <td>0.518</td>\n",
       "      <td>0.590</td>\n",
       "      <td>0.443</td>\n",
       "      <td>0.777</td>\n",
       "      <td>0.56</td>\n",
       "      <td>0.200</td>\n",
       "    </tr>\n",
       "    <tr>\n",
       "      <th>3</th>\n",
       "      <td>4</td>\n",
       "      <td>0.0</td>\n",
       "      <td>0.0</td>\n",
       "      <td>0.0</td>\n",
       "      <td>1.0</td>\n",
       "      <td>0.0</td>\n",
       "      <td>0.0</td>\n",
       "      <td>0.396</td>\n",
       "      <td>0.320</td>\n",
       "      <td>0.682</td>\n",
       "      <td>0.788</td>\n",
       "      <td>0.32</td>\n",
       "      <td>0.500</td>\n",
       "    </tr>\n",
       "    <tr>\n",
       "      <th>4</th>\n",
       "      <td>5</td>\n",
       "      <td>0.0</td>\n",
       "      <td>0.0</td>\n",
       "      <td>0.0</td>\n",
       "      <td>0.0</td>\n",
       "      <td>1.0</td>\n",
       "      <td>0.0</td>\n",
       "      <td>0.219</td>\n",
       "      <td>0.351</td>\n",
       "      <td>0.381</td>\n",
       "      <td>0.200</td>\n",
       "      <td>0.56</td>\n",
       "      <td>0.275</td>\n",
       "    </tr>\n",
       "    <tr>\n",
       "      <th>5</th>\n",
       "      <td>6</td>\n",
       "      <td>0.0</td>\n",
       "      <td>0.0</td>\n",
       "      <td>0.0</td>\n",
       "      <td>0.0</td>\n",
       "      <td>0.0</td>\n",
       "      <td>1.0</td>\n",
       "      <td>0.262</td>\n",
       "      <td>0.243</td>\n",
       "      <td>0.620</td>\n",
       "      <td>0.679</td>\n",
       "      <td>0.44</td>\n",
       "      <td>0.350</td>\n",
       "    </tr>\n",
       "    <tr>\n",
       "      <th>6</th>\n",
       "      <td>7</td>\n",
       "      <td>0.5</td>\n",
       "      <td>0.5</td>\n",
       "      <td>0.0</td>\n",
       "      <td>0.0</td>\n",
       "      <td>0.0</td>\n",
       "      <td>0.0</td>\n",
       "      <td>0.800</td>\n",
       "      <td>0.778</td>\n",
       "      <td>0.462</td>\n",
       "      <td>0.460</td>\n",
       "      <td>0.80</td>\n",
       "      <td>0.650</td>\n",
       "    </tr>\n",
       "    <tr>\n",
       "      <th>7</th>\n",
       "      <td>8</td>\n",
       "      <td>0.5</td>\n",
       "      <td>0.0</td>\n",
       "      <td>0.5</td>\n",
       "      <td>0.0</td>\n",
       "      <td>0.0</td>\n",
       "      <td>0.0</td>\n",
       "      <td>0.627</td>\n",
       "      <td>0.693</td>\n",
       "      <td>0.415</td>\n",
       "      <td>0.716</td>\n",
       "      <td>0.56</td>\n",
       "      <td>0.350</td>\n",
       "    </tr>\n",
       "    <tr>\n",
       "      <th>8</th>\n",
       "      <td>9</td>\n",
       "      <td>0.0</td>\n",
       "      <td>0.5</td>\n",
       "      <td>0.5</td>\n",
       "      <td>0.0</td>\n",
       "      <td>0.0</td>\n",
       "      <td>0.0</td>\n",
       "      <td>0.593</td>\n",
       "      <td>0.572</td>\n",
       "      <td>0.536</td>\n",
       "      <td>0.630</td>\n",
       "      <td>0.44</td>\n",
       "      <td>0.575</td>\n",
       "    </tr>\n",
       "    <tr>\n",
       "      <th>9</th>\n",
       "      <td>10</td>\n",
       "      <td>0.5</td>\n",
       "      <td>0.0</td>\n",
       "      <td>0.0</td>\n",
       "      <td>0.5</td>\n",
       "      <td>0.0</td>\n",
       "      <td>0.0</td>\n",
       "      <td>0.502</td>\n",
       "      <td>0.682</td>\n",
       "      <td>0.263</td>\n",
       "      <td>0.390</td>\n",
       "      <td>0.68</td>\n",
       "      <td>0.425</td>\n",
       "    </tr>\n",
       "    <tr>\n",
       "      <th>10</th>\n",
       "      <td>11</td>\n",
       "      <td>0.0</td>\n",
       "      <td>0.5</td>\n",
       "      <td>0.0</td>\n",
       "      <td>0.5</td>\n",
       "      <td>0.0</td>\n",
       "      <td>0.0</td>\n",
       "      <td>0.651</td>\n",
       "      <td>0.481</td>\n",
       "      <td>0.738</td>\n",
       "      <td>0.736</td>\n",
       "      <td>0.56</td>\n",
       "      <td>0.650</td>\n",
       "    </tr>\n",
       "  </tbody>\n",
       "</table>\n",
       "</div>"
      ],
      "text/plain": [
       "    ID  Large B/P  Large ROE  Large S/P  Large Return Rate  \\\n",
       "1    2        0.0        1.0        0.0                0.0   \n",
       "2    3        0.0        0.0        1.0                0.0   \n",
       "3    4        0.0        0.0        0.0                1.0   \n",
       "4    5        0.0        0.0        0.0                0.0   \n",
       "5    6        0.0        0.0        0.0                0.0   \n",
       "6    7        0.5        0.5        0.0                0.0   \n",
       "7    8        0.5        0.0        0.5                0.0   \n",
       "8    9        0.0        0.5        0.5                0.0   \n",
       "9   10        0.5        0.0        0.0                0.5   \n",
       "10  11        0.0        0.5        0.0                0.5   \n",
       "\n",
       "    Large Market Value  Small systematic Risk  Annual Return  Excess Return  \\\n",
       "1                  0.0                    0.0          0.599          0.431   \n",
       "2                  0.0                    0.0          0.518          0.590   \n",
       "3                  0.0                    0.0          0.396          0.320   \n",
       "4                  1.0                    0.0          0.219          0.351   \n",
       "5                  0.0                    1.0          0.262          0.243   \n",
       "6                  0.0                    0.0          0.800          0.778   \n",
       "7                  0.0                    0.0          0.627          0.693   \n",
       "8                  0.0                    0.0          0.593          0.572   \n",
       "9                  0.0                    0.0          0.502          0.682   \n",
       "10                 0.0                    0.0          0.651          0.481   \n",
       "\n",
       "    Systematic Risk  Total Risk  Abs. Win Rate  Rel. Win Rate  \n",
       "1             0.737       0.634           0.68          0.725  \n",
       "2             0.443       0.777           0.56          0.200  \n",
       "3             0.682       0.788           0.32          0.500  \n",
       "4             0.381       0.200           0.56          0.275  \n",
       "5             0.620       0.679           0.44          0.350  \n",
       "6             0.462       0.460           0.80          0.650  \n",
       "7             0.415       0.716           0.56          0.350  \n",
       "8             0.536       0.630           0.44          0.575  \n",
       "9             0.263       0.390           0.68          0.425  \n",
       "10            0.738       0.736           0.56          0.650  "
      ]
     },
     "execution_count": 360,
     "metadata": {},
     "output_type": "execute_result"
    }
   ],
   "source": [
    "rnames=['ID','Large B/P','Large ROE','Large S/P','Large Return Rate','Large Market Value','Small systematic Risk','Annual Return','Excess Return','Systematic Risk','Total Risk','Abs. Win Rate','Rel. Win Rate']\n",
    "rdatas=pd.read_table('./Downloads/rawdata.csv', sep=',', header=None, names=rnames,engine = 'python') \n",
    "rdatas=rdatas.drop(0)\n",
    "rdatas.head(10)"
   ]
  },
  {
   "cell_type": "code",
   "execution_count": 361,
   "metadata": {},
   "outputs": [
    {
     "data": {
      "text/html": [
       "<div>\n",
       "<style scoped>\n",
       "    .dataframe tbody tr th:only-of-type {\n",
       "        vertical-align: middle;\n",
       "    }\n",
       "\n",
       "    .dataframe tbody tr th {\n",
       "        vertical-align: top;\n",
       "    }\n",
       "\n",
       "    .dataframe thead th {\n",
       "        text-align: right;\n",
       "    }\n",
       "</style>\n",
       "<table border=\"1\" class=\"dataframe\">\n",
       "  <thead>\n",
       "    <tr style=\"text-align: right;\">\n",
       "      <th></th>\n",
       "      <th>ID</th>\n",
       "      <th>Large B/P</th>\n",
       "      <th>Large ROE</th>\n",
       "      <th>Large S/P</th>\n",
       "      <th>Large Return Rate</th>\n",
       "      <th>Large Market Value</th>\n",
       "      <th>Small systematic Risk</th>\n",
       "      <th>Annual Return</th>\n",
       "      <th>Excess Return</th>\n",
       "      <th>Systematic Risk</th>\n",
       "      <th>Total Risk</th>\n",
       "      <th>Abs. Win Rate</th>\n",
       "      <th>Rel. Win Rate</th>\n",
       "    </tr>\n",
       "  </thead>\n",
       "  <tbody>\n",
       "    <tr>\n",
       "      <th>count</th>\n",
       "      <td>251.000000</td>\n",
       "      <td>251.000000</td>\n",
       "      <td>251.000000</td>\n",
       "      <td>251.000000</td>\n",
       "      <td>251.000000</td>\n",
       "      <td>251.000000</td>\n",
       "      <td>251.000000</td>\n",
       "      <td>251.000000</td>\n",
       "      <td>251.000000</td>\n",
       "      <td>251.000000</td>\n",
       "      <td>251.000000</td>\n",
       "      <td>251.000000</td>\n",
       "      <td>251.000000</td>\n",
       "    </tr>\n",
       "    <tr>\n",
       "      <th>mean</th>\n",
       "      <td>127.000000</td>\n",
       "      <td>0.163299</td>\n",
       "      <td>0.167283</td>\n",
       "      <td>0.167283</td>\n",
       "      <td>0.167283</td>\n",
       "      <td>0.167283</td>\n",
       "      <td>0.167283</td>\n",
       "      <td>0.542602</td>\n",
       "      <td>0.567625</td>\n",
       "      <td>0.428088</td>\n",
       "      <td>0.429259</td>\n",
       "      <td>0.537036</td>\n",
       "      <td>0.542143</td>\n",
       "    </tr>\n",
       "    <tr>\n",
       "      <th>std</th>\n",
       "      <td>72.601653</td>\n",
       "      <td>0.191351</td>\n",
       "      <td>0.198225</td>\n",
       "      <td>0.198225</td>\n",
       "      <td>0.198225</td>\n",
       "      <td>0.198225</td>\n",
       "      <td>0.198225</td>\n",
       "      <td>0.146030</td>\n",
       "      <td>0.135828</td>\n",
       "      <td>0.140541</td>\n",
       "      <td>0.145812</td>\n",
       "      <td>0.140689</td>\n",
       "      <td>0.142576</td>\n",
       "    </tr>\n",
       "    <tr>\n",
       "      <th>min</th>\n",
       "      <td>2.000000</td>\n",
       "      <td>0.000000</td>\n",
       "      <td>0.000000</td>\n",
       "      <td>0.000000</td>\n",
       "      <td>0.000000</td>\n",
       "      <td>0.000000</td>\n",
       "      <td>0.000000</td>\n",
       "      <td>0.200000</td>\n",
       "      <td>0.200000</td>\n",
       "      <td>0.200000</td>\n",
       "      <td>0.200000</td>\n",
       "      <td>0.200000</td>\n",
       "      <td>0.200000</td>\n",
       "    </tr>\n",
       "    <tr>\n",
       "      <th>25%</th>\n",
       "      <td>64.500000</td>\n",
       "      <td>0.000000</td>\n",
       "      <td>0.000000</td>\n",
       "      <td>0.000000</td>\n",
       "      <td>0.000000</td>\n",
       "      <td>0.000000</td>\n",
       "      <td>0.000000</td>\n",
       "      <td>0.450500</td>\n",
       "      <td>0.486000</td>\n",
       "      <td>0.324500</td>\n",
       "      <td>0.319000</td>\n",
       "      <td>0.457000</td>\n",
       "      <td>0.425000</td>\n",
       "    </tr>\n",
       "    <tr>\n",
       "      <th>50%</th>\n",
       "      <td>127.000000</td>\n",
       "      <td>0.167000</td>\n",
       "      <td>0.167000</td>\n",
       "      <td>0.167000</td>\n",
       "      <td>0.167000</td>\n",
       "      <td>0.167000</td>\n",
       "      <td>0.167000</td>\n",
       "      <td>0.556000</td>\n",
       "      <td>0.578000</td>\n",
       "      <td>0.412000</td>\n",
       "      <td>0.399000</td>\n",
       "      <td>0.560000</td>\n",
       "      <td>0.533000</td>\n",
       "    </tr>\n",
       "    <tr>\n",
       "      <th>75%</th>\n",
       "      <td>189.500000</td>\n",
       "      <td>0.291500</td>\n",
       "      <td>0.333000</td>\n",
       "      <td>0.333000</td>\n",
       "      <td>0.333000</td>\n",
       "      <td>0.333000</td>\n",
       "      <td>0.333000</td>\n",
       "      <td>0.655500</td>\n",
       "      <td>0.670000</td>\n",
       "      <td>0.506500</td>\n",
       "      <td>0.515000</td>\n",
       "      <td>0.629000</td>\n",
       "      <td>0.650000</td>\n",
       "    </tr>\n",
       "    <tr>\n",
       "      <th>max</th>\n",
       "      <td>252.000000</td>\n",
       "      <td>1.000000</td>\n",
       "      <td>1.000000</td>\n",
       "      <td>1.000000</td>\n",
       "      <td>1.000000</td>\n",
       "      <td>1.000000</td>\n",
       "      <td>1.000000</td>\n",
       "      <td>0.800000</td>\n",
       "      <td>0.800000</td>\n",
       "      <td>0.800000</td>\n",
       "      <td>0.800000</td>\n",
       "      <td>0.800000</td>\n",
       "      <td>0.800000</td>\n",
       "    </tr>\n",
       "  </tbody>\n",
       "</table>\n",
       "</div>"
      ],
      "text/plain": [
       "               ID   Large B/P   Large ROE   Large S/P  Large Return Rate  \\\n",
       "count  251.000000  251.000000  251.000000  251.000000         251.000000   \n",
       "mean   127.000000    0.163299    0.167283    0.167283           0.167283   \n",
       "std     72.601653    0.191351    0.198225    0.198225           0.198225   \n",
       "min      2.000000    0.000000    0.000000    0.000000           0.000000   \n",
       "25%     64.500000    0.000000    0.000000    0.000000           0.000000   \n",
       "50%    127.000000    0.167000    0.167000    0.167000           0.167000   \n",
       "75%    189.500000    0.291500    0.333000    0.333000           0.333000   \n",
       "max    252.000000    1.000000    1.000000    1.000000           1.000000   \n",
       "\n",
       "       Large Market Value  Small systematic Risk  Annual Return  \\\n",
       "count          251.000000             251.000000     251.000000   \n",
       "mean             0.167283               0.167283       0.542602   \n",
       "std              0.198225               0.198225       0.146030   \n",
       "min              0.000000               0.000000       0.200000   \n",
       "25%              0.000000               0.000000       0.450500   \n",
       "50%              0.167000               0.167000       0.556000   \n",
       "75%              0.333000               0.333000       0.655500   \n",
       "max              1.000000               1.000000       0.800000   \n",
       "\n",
       "       Excess Return  Systematic Risk  Total Risk  Abs. Win Rate  \\\n",
       "count     251.000000       251.000000  251.000000     251.000000   \n",
       "mean        0.567625         0.428088    0.429259       0.537036   \n",
       "std         0.135828         0.140541    0.145812       0.140689   \n",
       "min         0.200000         0.200000    0.200000       0.200000   \n",
       "25%         0.486000         0.324500    0.319000       0.457000   \n",
       "50%         0.578000         0.412000    0.399000       0.560000   \n",
       "75%         0.670000         0.506500    0.515000       0.629000   \n",
       "max         0.800000         0.800000    0.800000       0.800000   \n",
       "\n",
       "       Rel. Win Rate  \n",
       "count     251.000000  \n",
       "mean        0.542143  \n",
       "std         0.142576  \n",
       "min         0.200000  \n",
       "25%         0.425000  \n",
       "50%         0.533000  \n",
       "75%         0.650000  \n",
       "max         0.800000  "
      ]
     },
     "execution_count": 361,
     "metadata": {},
     "output_type": "execute_result"
    }
   ],
   "source": [
    "rdatas.describe()"
   ]
  },
  {
   "cell_type": "code",
   "execution_count": 362,
   "metadata": {},
   "outputs": [],
   "source": [
    "X=np.zeros((251,7))\n",
    "Y=np.zeros((251,6))"
   ]
  },
  {
   "cell_type": "code",
   "execution_count": 363,
   "metadata": {},
   "outputs": [],
   "source": [
    "data_array=rdatas.values"
   ]
  },
  {
   "cell_type": "code",
   "execution_count": 364,
   "metadata": {},
   "outputs": [],
   "source": [
    "X=data_array[0:250,1:7]\n",
    "Y=data_array[0:250,7:13]"
   ]
  },
  {
   "cell_type": "code",
   "execution_count": 365,
   "metadata": {},
   "outputs": [],
   "source": [
    "X_train=X[0:210]\n",
    "X_test=X[210:250]\n",
    "Y_train=Y[0:210]\n",
    "Y_test=Y[210:250]"
   ]
  },
  {
   "cell_type": "code",
   "execution_count": 366,
   "metadata": {},
   "outputs": [],
   "source": [
    "W=np.dot(X_train.T,X_train)\n",
    "W=np.array(W,dtype='float')\n",
    "W=np.linalg.inv(W)"
   ]
  },
  {
   "cell_type": "code",
   "execution_count": 367,
   "metadata": {},
   "outputs": [],
   "source": [
    "Y_train=np.array(Y_train,dtype='float')\n",
    "b=np.dot(X_train.T,Y_train)"
   ]
  },
  {
   "cell_type": "code",
   "execution_count": 368,
   "metadata": {},
   "outputs": [],
   "source": [
    "W=np.dot(W,b)"
   ]
  },
  {
   "cell_type": "code",
   "execution_count": 369,
   "metadata": {},
   "outputs": [
    {
     "data": {
      "text/plain": [
       "3.3270452760580937e-06"
      ]
     },
     "execution_count": 369,
     "metadata": {},
     "output_type": "execute_result"
    }
   ],
   "source": [
    "err=Y_train.T-np.dot(W.T,X_train.T)\n",
    "err=np.dot(err.T,err)\n",
    "err=np.sum(err)\n",
    "err"
   ]
  },
  {
   "cell_type": "code",
   "execution_count": 370,
   "metadata": {},
   "outputs": [],
   "source": [
    "arfa=0.5\n",
    "max_iteration=10000\n",
    "tolerance_converge=1\n",
    "def standard_GD(X,Y,arfa,max_i,lamda_ini,tolerance):\n",
    "    n=X.shape[1]\n",
    "    m=Y.shape[1]\n",
    "    lamda=lamda_ini*np.eye(n,n)\n",
    "    res_err=[]\n",
    "    W_final=np.zeros((n,m))\n",
    "    for i in range(0,max_i):\n",
    "        W=lamda+np.dot(X.T,X)\n",
    "        W=np.array(W,dtype='float')\n",
    "        W=np.linalg.inv(W)\n",
    "        Y=np.array(Y,dtype='float')\n",
    "        b=np.dot(X.T,Y)\n",
    "        W=np.dot(W,b)\n",
    "        err=Y.T-np.dot(W.T,X.T)\n",
    "        err=np.dot(err.T,err)\n",
    "        err=np.sum(err)\n",
    "        res_err.append(err)\n",
    "        if i==max_i or err<tolerance:\n",
    "            W_final=W\n",
    "            break\n",
    "        else:\n",
    "            A=lamda+np.dot(X.T,X)\n",
    "            A=np.dot(A.T,A)\n",
    "            A=np.linalg.inv(A)\n",
    "            B=np.dot(W,b.T)\n",
    "            lamda=lamda-arfa*np.linalg.norm(np.dot(B,A))\n",
    "    \n",
    "    return(res_err,W_final)       \n",
    "            "
   ]
  },
  {
   "cell_type": "code",
   "execution_count": 371,
   "metadata": {},
   "outputs": [],
   "source": [
    "miu=0.01\n",
    "def standard_GD_momentum(X,Y,arfa,miu,max_i,lamda_ini,tolerance):\n",
    "    n=X.shape[1]\n",
    "    m=Y.shape[1]\n",
    "    lamda=lamda_ini*np.eye(n,n)\n",
    "    res_err=[]\n",
    "    W_final=np.zeros((n,m))\n",
    "    A=np.zeros((n,n))\n",
    "    B=np.zeros((n,n))\n",
    "    for i in range(0,max_i):\n",
    "        W=lamda+np.dot(X.T,X)\n",
    "        W=np.array(W,dtype='float')\n",
    "        W=np.linalg.inv(W)\n",
    "        Y=np.array(Y,dtype='float')\n",
    "        b=np.dot(X.T,Y)\n",
    "        W=np.dot(W,b)\n",
    "        err=Y.T-np.dot(W.T,X.T)\n",
    "        err=np.dot(err.T,err)\n",
    "        err=np.sum(err)\n",
    "        res_err.append(err)\n",
    "        if i==max_i or err<tolerance:\n",
    "            W_final=W\n",
    "            break\n",
    "        else:\n",
    "            C=np.linalg.norm(np.dot(B,A))\n",
    "            A=lamda+np.dot(X.T,X)\n",
    "            A=np.dot(A.T,A)\n",
    "            A=np.linalg.inv(A)\n",
    "            B=np.dot(W,b.T)\n",
    "            lamda=lamda-arfa*np.linalg.norm(np.dot(B,A))+miu*C\n",
    "    \n",
    "    return(res_err,W_final)       "
   ]
  },
  {
   "cell_type": "code",
   "execution_count": 372,
   "metadata": {},
   "outputs": [],
   "source": [
    "def standard_RUD(X,Y,arfa,miu,max_i,lamda_ini,tolerance):\n",
    "    n=X.shape[1]\n",
    "    m=Y.shape[1]\n",
    "    lamda=lamda_ini*np.eye(n,n)\n",
    "    res_err=[]\n",
    "    W_final=np.zeros((n,m))\n",
    "    A=np.zeros((n,n))\n",
    "    B=np.zeros((n,n))\n",
    "    for i in range(0,max_i):\n",
    "        W=lamda+np.dot(X.T,X)\n",
    "        W=np.array(W,dtype='float')\n",
    "        W=np.linalg.inv(W)\n",
    "        Y=np.array(Y,dtype='float')\n",
    "        b=np.dot(X.T,Y)\n",
    "        W=np.dot(W,b)\n",
    "        err=Y.T-np.dot(W.T,X.T)\n",
    "        err=np.dot(err.T,err)\n",
    "        err=np.sum(err)\n",
    "        res_err.append(err)\n",
    "        if i==max_i or err<tolerance:\n",
    "            W_final=W\n",
    "            break\n",
    "        else:\n",
    "            C=np.linalg.norm(np.dot(B,A))\n",
    "            A=lamda+np.dot(X.T,X)+arfa*C\n",
    "            A=np.dot(A.T,A)\n",
    "            A=np.linalg.inv(A)\n",
    "            B=np.dot(W,b.T)\n",
    "            lamda=lamda-arfa*np.linalg.norm(np.dot(B,A))+miu*C\n",
    "    \n",
    "    return(res_err,W_final)       "
   ]
  },
  {
   "cell_type": "code",
   "execution_count": 373,
   "metadata": {},
   "outputs": [],
   "source": [
    "def predict_error(X,Y,W):\n",
    "    err=Y.T-np.dot(W.T,X.T)\n",
    "    err=np.dot(err.T,err)\n",
    "    err=np.sum(err)\n",
    "    return err"
   ]
  },
  {
   "cell_type": "code",
   "execution_count": 374,
   "metadata": {},
   "outputs": [
    {
     "name": "stdout",
     "output_type": "stream",
     "text": [
      "The predicting error for linear regression is 39.268866\n"
     ]
    }
   ],
   "source": [
    "e1=predict_error(X_test,Y_test,W)\n",
    "print (\"The predicting error for linear regression is %f\"%(e1))"
   ]
  },
  {
   "cell_type": "code",
   "execution_count": 375,
   "metadata": {},
   "outputs": [],
   "source": [
    "lamda_initial=20"
   ]
  },
  {
   "cell_type": "code",
   "execution_count": 376,
   "metadata": {},
   "outputs": [
    {
     "name": "stdout",
     "output_type": "stream",
     "text": [
      "The converge iterations for GD, Momentum and RUD are 57, 58, 59\n"
     ]
    }
   ],
   "source": [
    "err_list_GD=[]\n",
    "(err_list_GD,W_GD)=standard_GD(X_train,Y_train,arfa,max_iteration,lamda_initial,tolerance_converge)\n",
    "x1_axix=range(0,len(err_list_GD))\n",
    "\n",
    "\n",
    "err_list_GD_m=[]\n",
    "(err_list_GD_m,W_GD_m)=standard_GD_momentum(X_train,Y_train,arfa,miu,max_iteration,lamda_initial,tolerance_converge)\n",
    "x2_axix=range(0,len(err_list_GD_m))\n",
    "\n",
    "\n",
    "err_list_rud=[]\n",
    "(err_list_rud,W_rud)=standard_RUD(X_train,Y_train,arfa,miu,max_iteration,lamda_initial,tolerance_converge)\n",
    "x3_axix=range(0,len(err_list_rud))\n",
    "\n",
    "\n",
    "print (\"The converge iterations for GD, Momentum and RUD are %d, %d, %d\"%(len(err_list_GD),len(err_list_GD_m),len(err_list_rud)))"
   ]
  },
  {
   "cell_type": "code",
   "execution_count": 377,
   "metadata": {},
   "outputs": [
    {
     "data": {
      "image/png": "[encoded data removed]",
      "text/plain": [
       "<matplotlib.figure.Figure at 0x113e2ddd8>"
      ]
     },
     "metadata": {},
     "output_type": "display_data"
    }
   ],
   "source": [
    "plt.title('Result Analysis')\n",
    "plt.plot(x1_axix, err_list_GD, color='green', label='GD')\n",
    "plt.plot(x2_axix, err_list_GD_m,  color='skyblue', label='momentum')\n",
    "plt.plot(x3_axix, err_list_rud, color='blue', label='RUD')\n",
    "plt.legend()\n",
    "\n",
    "plt.xlabel('iteration times')\n",
    "plt.ylabel('error')\n",
    "plt.show()"
   ]
  },
  {
   "cell_type": "code",
   "execution_count": 378,
   "metadata": {},
   "outputs": [
    {
     "name": "stdout",
     "output_type": "stream",
     "text": [
      "The predicting error for ridge regression optimized by GD, Momentum and RUD are 38.703023, 38.904007, 38.567624\n"
     ]
    }
   ],
   "source": [
    "e2=predict_error(X_test,Y_test,W_GD)\n",
    "e3=predict_error(X_test,Y_test,W_GD_m)\n",
    "e4=predict_error(X_test,Y_test,W_rud)\n",
    "print (\"The predicting error for ridge regression optimized by GD, Momentum and RUD are %f, %f, %f\"%(e2,e3,e4))"
   ]
  },
  {
   "cell_type": "code",
   "execution_count": 379,
   "metadata": {},
   "outputs": [],
   "source": [
    "lamda_initial=30"
   ]
  },
  {
   "cell_type": "code",
   "execution_count": 380,
   "metadata": {},
   "outputs": [
    {
     "name": "stdout",
     "output_type": "stream",
     "text": [
      "The converge iterations for GD, Momentum and RUD are 10000, 123, 124\n"
     ]
    }
   ],
   "source": [
    "err_list_GD=[]\n",
    "(err_list_GD,W_GD)=standard_GD(X_train,Y_train,arfa,max_iteration,lamda_initial,tolerance_converge)\n",
    "x1_axix=range(0,len(err_list_GD))\n",
    "\n",
    "\n",
    "err_list_GD_m=[]\n",
    "(err_list_GD_m,W_GD_m)=standard_GD_momentum(X_train,Y_train,arfa,miu,max_iteration,lamda_initial,tolerance_converge)\n",
    "x2_axix=range(0,len(err_list_GD_m))\n",
    "\n",
    "\n",
    "err_list_rud=[]\n",
    "(err_list_rud,W_rud)=standard_RUD(X_train,Y_train,arfa,miu,max_iteration,lamda_initial,tolerance_converge)\n",
    "x3_axix=range(0,len(err_list_rud))\n",
    "\n",
    "\n",
    "print (\"The converge iterations for GD, Momentum and RUD are %d, %d, %d\"%(len(err_list_GD),len(err_list_GD_m),len(err_list_rud)))"
   ]
  },
  {
   "cell_type": "code",
   "execution_count": 381,
   "metadata": {},
   "outputs": [
    {
     "data": {
      "image/png": "[encoded data removed]",
      "text/plain": [
       "<matplotlib.figure.Figure at 0x113f210f0>"
      ]
     },
     "metadata": {},
     "output_type": "display_data"
    }
   ],
   "source": [
    "plt.title('Result Analysis')\n",
    "plt.plot(x1_axix, err_list_GD, color='green', label='GD')\n",
    "plt.plot(x2_axix, err_list_GD_m,  color='skyblue', label='momentum')\n",
    "plt.plot(x3_axix, err_list_rud, color='blue', label='RUD')\n",
    "plt.legend()\n",
    "\n",
    "plt.xlabel('iteration times')\n",
    "plt.ylabel('error')\n",
    "plt.show()"
   ]
  },
  {
   "cell_type": "code",
   "execution_count": 382,
   "metadata": {},
   "outputs": [
    {
     "name": "stdout",
     "output_type": "stream",
     "text": [
      "The predicting error for ridge regression optimized by GD, Momentum and RUD are 2626.473794, 38.363669, 38.788844\n"
     ]
    }
   ],
   "source": [
    "e2=predict_error(X_test,Y_test,W_GD)\n",
    "e3=predict_error(X_test,Y_test,W_GD_m)\n",
    "e4=predict_error(X_test,Y_test,W_rud)\n",
    "print (\"The predicting error for ridge regression optimized by GD, Momentum and RUD are %f, %f, %f\"%(e2,e3,e4))"
   ]
  },
  {
   "cell_type": "code",
   "execution_count": 383,
   "metadata": {},
   "outputs": [],
   "source": [
    "lamda_initial=50"
   ]
  },
  {
   "cell_type": "code",
   "execution_count": 384,
   "metadata": {},
   "outputs": [
    {
     "name": "stdout",
     "output_type": "stream",
     "text": [
      "The converge iterations for GD, Momentum and RUD are 10000, 10000, 380\n"
     ]
    }
   ],
   "source": [
    "err_list_GD=[]\n",
    "(err_list_GD,W_GD)=standard_GD(X_train,Y_train,arfa,max_iteration,lamda_initial,tolerance_converge)\n",
    "x1_axix=range(0,len(err_list_GD))\n",
    "\n",
    "\n",
    "err_list_GD_m=[]\n",
    "(err_list_GD_m,W_GD_m)=standard_GD_momentum(X_train,Y_train,arfa,miu,max_iteration,lamda_initial,tolerance_converge)\n",
    "x2_axix=range(0,len(err_list_GD_m))\n",
    "\n",
    "\n",
    "err_list_rud=[]\n",
    "(err_list_rud,W_rud)=standard_RUD(X_train,Y_train,arfa,miu,max_iteration,lamda_initial,tolerance_converge)\n",
    "x3_axix=range(0,len(err_list_rud))\n",
    "\n",
    "\n",
    "print (\"The converge iterations for GD, Momentum and RUD are %d, %d, %d\"%(len(err_list_GD),len(err_list_GD_m),len(err_list_rud)))"
   ]
  },
  {
   "cell_type": "code",
   "execution_count": 385,
   "metadata": {},
   "outputs": [
    {
     "data": {
      "image/png": "[encoded data removed]",
      "text/plain": [
       "<matplotlib.figure.Figure at 0x1142013c8>"
      ]
     },
     "metadata": {},
     "output_type": "display_data"
    }
   ],
   "source": [
    "plt.title('Result Analysis')\n",
    "plt.plot(x1_axix, err_list_GD, color='green', label='GD')\n",
    "plt.plot(x2_axix, err_list_GD_m,  color='skyblue', label='momentum')\n",
    "plt.plot(x3_axix, err_list_rud, color='blue', label='RUD')\n",
    "plt.legend()\n",
    "\n",
    "plt.xlabel('iteration times')\n",
    "plt.ylabel('error')\n",
    "plt.show()"
   ]
  },
  {
   "cell_type": "code",
   "execution_count": 386,
   "metadata": {},
   "outputs": [
    {
     "name": "stdout",
     "output_type": "stream",
     "text": [
      "The predicting error for ridge regression optimized by GD, Momentum and RUD are 2626.473794, 2626.473794, 38.511894\n"
     ]
    }
   ],
   "source": [
    "e2=predict_error(X_test,Y_test,W_GD)\n",
    "e3=predict_error(X_test,Y_test,W_GD_m)\n",
    "e4=predict_error(X_test,Y_test,W_rud)\n",
    "print (\"The predicting error for ridge regression optimized by GD, Momentum and RUD are %f, %f, %f\"%(e2,e3,e4))"
   ]
  },
  {
   "cell_type": "code",
   "execution_count": 387,
   "metadata": {},
   "outputs": [
    {
     "data": {
      "text/plain": [
       "array([[0.54143261, 0.60703698, 0.41719115, 0.44169451, 0.53889834,\n",
       "        0.53434972],\n",
       "       [0.56731323, 0.57564293, 0.44416527, 0.42932201, 0.53139165,\n",
       "        0.59089812],\n",
       "       [0.55445177, 0.59334022, 0.44358547, 0.46710683, 0.51948174,\n",
       "        0.53722735],\n",
       "       [0.52556979, 0.55261509, 0.44904916, 0.46111326, 0.50698111,\n",
       "        0.52395211],\n",
       "       [0.50823272, 0.53895206, 0.42805902, 0.39675653, 0.52314493,\n",
       "        0.53819693],\n",
       "       [0.51205126, 0.54244493, 0.44029651, 0.45548378, 0.49362997,\n",
       "        0.52652292]])"
      ]
     },
     "execution_count": 387,
     "metadata": {},
     "output_type": "execute_result"
    }
   ],
   "source": [
    "W_rud"
   ]
  },
  {
   "cell_type": "code",
   "execution_count": null,
   "metadata": {},
   "outputs": [],
   "source": []
  }
 ],
 "metadata": {
  "kernelspec": {
   "display_name": "Python 3",
   "language": "python",
   "name": "python3"
  },
  "language_info": {
   "codemirror_mode": {
    "name": "ipython",
    "version": 3
   },
   "file_extension": ".py",
   "mimetype": "text/x-python",
   "name": "python",
   "nbconvert_exporter": "python",
   "pygments_lexer": "ipython3",
   "version": "3.6.4"
  }
 },
 "nbformat": 4,
 "nbformat_minor": 2
}
